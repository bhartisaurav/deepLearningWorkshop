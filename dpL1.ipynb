{
  "nbformat": 4,
  "nbformat_minor": 0,
  "metadata": {
    "colab": {
      "name": "dpL1.ipynb",
      "version": "0.3.2",
      "provenance": [],
      "include_colab_link": true
    },
    "kernelspec": {
      "name": "python3",
      "display_name": "Python 3"
    }
  },
  "cells": [
    {
      "cell_type": "markdown",
      "metadata": {
        "id": "view-in-github",
        "colab_type": "text"
      },
      "source": [
        "<a href=\"https://colab.research.google.com/github/bhartisaurav/deepLearningWorkshop/blob/master/dpL1.ipynb\" target=\"_parent\"><img src=\"https://colab.research.google.com/assets/colab-badge.svg\" alt=\"Open In Colab\"/></a>"
      ]
    },
    {
      "metadata": {
        "id": "eWChVVM37-si",
        "colab_type": "code",
        "colab": {}
      },
      "cell_type": "code",
      "source": [
        "import tensorflow as tf\n",
        "\n"
      ],
      "execution_count": 0,
      "outputs": []
    },
    {
      "metadata": {
        "id": "CJ_5QwLU9AL7",
        "colab_type": "code",
        "outputId": "e3687ea2-2218-463d-807f-588b24b91093",
        "colab": {
          "base_uri": "https://localhost:8080/",
          "height": 36
        }
      },
      "cell_type": "code",
      "source": [
        "!git clone https://github.com/bhartisaurav/deepLearningWorkshop.git"
      ],
      "execution_count": 34,
      "outputs": [
        {
          "output_type": "stream",
          "text": [
            "fatal: destination path 'deepLearningWorkshop' already exists and is not an empty directory.\n"
          ],
          "name": "stdout"
        }
      ]
    },
    {
      "metadata": {
        "id": "BCu5I8Ha9xtq",
        "colab_type": "code",
        "colab": {}
      },
      "cell_type": "code",
      "source": [
        "b=tf.placeholder(tf.float32)\n",
        "c=tf.Variable(3.0)\n",
        "const=tf.constant(2.0)\n"
      ],
      "execution_count": 0,
      "outputs": []
    },
    {
      "metadata": {
        "id": "Lc2QgDm4Oypy",
        "colab_type": "code",
        "colab": {}
      },
      "cell_type": "code",
      "source": [
        "d=tf.add(b,c)\n",
        "e=tf.add(c,const)\n",
        "a=tf.multiply(d,e)"
      ],
      "execution_count": 0,
      "outputs": []
    },
    {
      "metadata": {
        "id": "YHcdO20eO-ww",
        "colab_type": "code",
        "colab": {}
      },
      "cell_type": "code",
      "source": [
        "init=tf.global_variables_initializer()"
      ],
      "execution_count": 0,
      "outputs": []
    },
    {
      "metadata": {
        "id": "_3C8NUdKPh1B",
        "colab_type": "code",
        "colab": {
          "base_uri": "https://localhost:8080/",
          "height": 36
        },
        "outputId": "f81805f2-89db-4241-f7b1-1a10cbc6c0ba"
      },
      "cell_type": "code",
      "source": [
        "with tf.Session() as sess:\n",
        "  sess.run(init)\n",
        "  a_out=sess.run(a,feed_dict={b:50})\n",
        "  print(\"varaible={}\".format(a_out))"
      ],
      "execution_count": 38,
      "outputs": [
        {
          "output_type": "stream",
          "text": [
            "varaible=265.0\n"
          ],
          "name": "stdout"
        }
      ]
    },
    {
      "metadata": {
        "id": "IfUaFOprRRlg",
        "colab_type": "text"
      },
      "cell_type": "markdown",
      "source": [
        "#TENSOR BORAD FOR GRAPH"
      ]
    },
    {
      "metadata": {
        "id": "fPTh3KFBQrED",
        "colab_type": "code",
        "colab": {
          "base_uri": "https://localhost:8080/",
          "height": 36
        },
        "outputId": "5302cb04-0ca8-40d7-a1c6-ac68dee1b24f"
      },
      "cell_type": "code",
      "source": [
        "!pip install tensorboardcolab"
      ],
      "execution_count": 39,
      "outputs": [
        {
          "output_type": "stream",
          "text": [
            "Requirement already satisfied: tensorboardcolab in /usr/local/lib/python3.6/dist-packages (0.0.22)\n"
          ],
          "name": "stdout"
        }
      ]
    },
    {
      "metadata": {
        "id": "bYgN78bYQ0II",
        "colab_type": "code",
        "colab": {}
      },
      "cell_type": "code",
      "source": [
        "from tensorboardcolab import TensorBoardColab"
      ],
      "execution_count": 0,
      "outputs": []
    },
    {
      "metadata": {
        "id": "Ts7EzhuyRGbU",
        "colab_type": "code",
        "colab": {
          "base_uri": "https://localhost:8080/",
          "height": 73
        },
        "outputId": "1ce2328c-67dd-4237-9597-543d7659c8cb"
      },
      "cell_type": "code",
      "source": [
        "tbc=TensorBoardColab()"
      ],
      "execution_count": 41,
      "outputs": [
        {
          "output_type": "stream",
          "text": [
            "Wait for 8 seconds...\n",
            "TensorBoard link:\n",
            "http://c80e7fed.ngrok.io\n"
          ],
          "name": "stdout"
        }
      ]
    },
    {
      "metadata": {
        "id": "5ruhHIbYRfAg",
        "colab_type": "code",
        "colab": {}
      },
      "cell_type": "code",
      "source": [
        "a=tf.constant(2,name=\"a\")\n",
        "b=tf.constant(2,name=\"b\")\n",
        "x=tf.add(a,b)\n",
        "summary_writer=tbc.get_writer()"
      ],
      "execution_count": 0,
      "outputs": []
    },
    {
      "metadata": {
        "id": "fSQZqWw9R94a",
        "colab_type": "code",
        "colab": {
          "base_uri": "https://localhost:8080/",
          "height": 36
        },
        "outputId": "6e0db5f8-f28d-4dc1-930e-e43e126db456"
      },
      "cell_type": "code",
      "source": [
        "with tf.Session() as sess:\n",
        "  x_out=sess.run(x)\n",
        "  print(x_out)\n",
        "  summary_writer.add_graph(sess.graph)"
      ],
      "execution_count": 43,
      "outputs": [
        {
          "output_type": "stream",
          "text": [
            "4\n"
          ],
          "name": "stdout"
        }
      ]
    },
    {
      "metadata": {
        "id": "19puC117UrVM",
        "colab_type": "code",
        "colab": {}
      },
      "cell_type": "code",
      "source": [
        ""
      ],
      "execution_count": 0,
      "outputs": []
    },
    {
      "metadata": {
        "id": "pGMkfTtnWiRp",
        "colab_type": "text"
      },
      "cell_type": "markdown",
      "source": [
        "#Linear Regression\n"
      ]
    },
    {
      "metadata": {
        "id": "wPayBOM4Whtw",
        "colab_type": "code",
        "colab": {}
      },
      "cell_type": "code",
      "source": [
        "import tensorflow as tf\n",
        "import numpy as np\n",
        "import matplotlib.pyplot as plt\n",
        "rng=np.random"
      ],
      "execution_count": 0,
      "outputs": []
    },
    {
      "metadata": {
        "id": "bBJZ_28KW-kH",
        "colab_type": "text"
      },
      "cell_type": "markdown",
      "source": [
        ""
      ]
    },
    {
      "metadata": {
        "id": "3FDs626BW7qv",
        "colab_type": "code",
        "colab": {}
      },
      "cell_type": "code",
      "source": [
        "#parameter\n",
        "learning_rate=0.01\n",
        "training_epochs=1000\n",
        "display_step=50"
      ],
      "execution_count": 0,
      "outputs": []
    },
    {
      "metadata": {
        "id": "rTscyK2JXOQn",
        "colab_type": "code",
        "colab": {}
      },
      "cell_type": "code",
      "source": [
        "#training data\n",
        "train_x=np.asarray([3.3,4.4,5.5,6.71,6.93,4.168,9.779,6.187])\n",
        "train_y=np.asarray([1.7,2.76,2.09,3.19,1.694,1.573,3.336,2.996])\n",
        "\n",
        "#n_sample\n"
      ],
      "execution_count": 0,
      "outputs": []
    },
    {
      "metadata": {
        "id": "bl824ywNYOft",
        "colab_type": "code",
        "colab": {}
      },
      "cell_type": "code",
      "source": [
        "#tf Graph Input\n",
        "X=tf.placeholder(\"float\")\n",
        "Y=tf.placeholder(\"float\")\n",
        "\n",
        "#set model weight\n",
        "W=tf.Variable(rng.randn(),name=\"weight\")\n",
        "b=tf.Variable(rng.randn(),name=\"bias\")"
      ],
      "execution_count": 0,
      "outputs": []
    },
    {
      "metadata": {
        "id": "gt650xnBY1m7",
        "colab_type": "code",
        "colab": {}
      },
      "cell_type": "code",
      "source": [
        "#contruct a linear model\n",
        "pred=tf.add(tf.multiply(X,W),b)\n",
        "\n",
        "#Mean squared error\n",
        "#cost=tf.reduce_sum(tf.pow(pred-Y,2))/(2*n_samples)\n",
        "cost=tf.reduce_sum(tf.pow(pred-Y,2))/(2)\n",
        "\n",
        "#Gradient descent\n",
        "#Note, minimize() knows to modify W and b because Variable object and trainable=True by default\n",
        "optimizer=tf.train.GradientDescentOptimizer(learning_rate).minimize(cost)\n",
        "\n",
        "#Initialize the variable (i.e assign their default)\n",
        "init=tf.global_variables_initializer()\n"
      ],
      "execution_count": 0,
      "outputs": []
    },
    {
      "metadata": {
        "id": "MLFU0mjgaqmU",
        "colab_type": "code",
        "colab": {}
      },
      "cell_type": "code",
      "source": [
        "sess=tf.Session()\n",
        "sess.run(init)"
      ],
      "execution_count": 0,
      "outputs": []
    },
    {
      "metadata": {
        "id": "9DoBcuGrbGz3",
        "colab_type": "code",
        "colab": {
          "base_uri": "https://localhost:8080/",
          "height": 3401
        },
        "outputId": "c9e9b734-1a51-4ddb-ed2c-fb621061a2bc"
      },
      "cell_type": "code",
      "source": [
        "for epoch in range(training_epochs):\n",
        "  for (x, y) in zip(train_x, train_y):\n",
        "    sess.run(optimizer, feed_dict={X: x, Y: y})\n",
        "\n",
        "    # Display logs per epoch step\n",
        "    if (epoch+1) % display_step == 0:\n",
        "      c = sess.run(cost, feed_dict={X: train_x, Y:train_y})\n",
        "      print(\"Epoch:\", '%04d' % (epoch+1), \"cost=\", \"{:.9f}\".format(c), \\\n",
        "              \"W=\", sess.run(W), \"b=\", sess.run(b))\n",
        "\n",
        "print(\"Optimization Finished!\")\n",
        "\n",
        "# Print the cost, weight and bias after the model training\n",
        "training_cost = sess.run(cost, feed_dict={X: train_x, Y: train_y})\n",
        "print(\"Training cost=\", training_cost, \"W=\", sess.run(W), \"b=\", sess.run(b), '\\n')\n",
        "    \n",
        "# Graphic display\n",
        "plt.plot(train_x, train_y, 'ro', label='Original data')\n",
        "plt.plot(train_x, sess.run(W) * train_x + sess.run(b), label='Fitted line')\n",
        "plt.legend()\n",
        "plt.show()"
      ],
      "execution_count": 70,
      "outputs": [
        {
          "output_type": "stream",
          "text": [
            "Epoch: 0050 cost= 2.173426151 W= 0.49018112 b= -0.54112357\n",
            "Epoch: 0050 cost= 2.776131630 W= 0.5405315 b= -0.5296803\n",
            "Epoch: 0050 cost= 2.446234941 W= 0.52110314 b= -0.5332127\n",
            "Epoch: 0050 cost= 2.693283081 W= 0.5363087 b= -0.5309466\n",
            "Epoch: 0050 cost= 2.465851307 W= 0.4329358 b= -0.54586333\n",
            "Epoch: 0050 cost= 2.302855015 W= 0.44603944 b= -0.5427195\n",
            "Epoch: 0050 cost= 3.122267246 W= 0.39879707 b= -0.5475505\n",
            "Epoch: 0050 cost= 2.162833929 W= 0.46538112 b= -0.5367886\n",
            "Epoch: 0100 cost= 1.696547270 W= 0.4225195 b= -0.08033891\n",
            "Epoch: 0100 cost= 2.211783886 W= 0.46569464 b= -0.070526384\n",
            "Epoch: 0100 cost= 1.873558760 W= 0.44365096 b= -0.07453433\n",
            "Epoch: 0100 cost= 2.160001755 W= 0.46295136 b= -0.07165796\n",
            "Epoch: 0100 cost= 1.961262226 W= 0.36297953 b= -0.08608391\n",
            "Epoch: 0100 cost= 1.880705953 W= 0.36907253 b= -0.08462206\n",
            "Epoch: 0100 cost= 2.152709723 W= 0.35063535 b= -0.08650745\n",
            "Epoch: 0100 cost= 1.654519796 W= 0.4071305 b= -0.07737618\n",
            "Epoch: 0150 cost= 1.476946235 W= 0.37897643 b= 0.21619537\n",
            "Epoch: 0150 cost= 1.936171174 W= 0.417534 b= 0.22495846\n",
            "Epoch: 0150 cost= 1.597113609 W= 0.39380723 b= 0.2206445\n",
            "Epoch: 0150 cost= 1.902819276 W= 0.41574284 b= 0.2239136\n",
            "Epoch: 0150 cost= 1.721780777 W= 0.31795976 b= 0.20980348\n",
            "Epoch: 0150 cost= 1.700077772 W= 0.3195411 b= 0.21018288\n",
            "Epoch: 0150 cost= 1.698766589 W= 0.3196413 b= 0.21019313\n",
            "Epoch: 0150 cost= 1.437744617 W= 0.36964378 b= 0.218275\n",
            "Epoch: 0200 cost= 1.371774912 W= 0.3509547 b= 0.4070273\n",
            "Epoch: 0200 cost= 1.795069337 W= 0.38654068 b= 0.41511503\n",
            "Epoch: 0200 cost= 1.457350612 W= 0.36173078 b= 0.41060415\n",
            "Epoch: 0200 cost= 1.772930622 W= 0.3853622 b= 0.41412598\n",
            "Epoch: 0200 cost= 1.602967858 W= 0.28898767 b= 0.4002191\n",
            "Epoch: 0200 cost= 1.621540785 W= 0.28766558 b= 0.39990193\n",
            "Epoch: 0200 cost= 1.477043986 W= 0.29969534 b= 0.40113208\n",
            "Epoch: 0200 cost= 1.343940735 W= 0.34551954 b= 0.4085386\n",
            "Epoch: 0250 cost= 1.319064379 W= 0.33292153 b= 0.52983576\n",
            "Epoch: 0250 cost= 1.719282866 W= 0.36659515 b= 0.5374889\n",
            "Epoch: 0250 cost= 1.383203149 W= 0.34108824 b= 0.5328513\n",
            "Epoch: 0250 cost= 1.704094052 W= 0.36581102 b= 0.53653574\n",
            "Epoch: 0250 cost= 1.541126966 W= 0.27034292 b= 0.5227597\n",
            "Epoch: 0250 cost= 1.586614251 W= 0.26715234 b= 0.5219942\n",
            "Epoch: 0250 cost= 1.363515615 W= 0.28685927 b= 0.5240094\n",
            "Epoch: 0250 cost= 1.302499771 W= 0.32999456 b= 0.5309813\n",
            "Epoch: 0300 cost= 1.291343570 W= 0.3213164 b= 0.60886824\n",
            "Epoch: 0300 cost= 1.676731706 W= 0.35375935 b= 0.61624163\n",
            "Epoch: 0300 cost= 1.342027664 W= 0.32780385 b= 0.61152244\n",
            "Epoch: 0300 cost= 1.665903449 W= 0.353229 b= 0.61531156\n",
            "Epoch: 0300 cost= 1.507384896 W= 0.25834423 b= 0.60161966\n",
            "Epoch: 0300 cost= 1.570604205 W= 0.25395122 b= 0.6005657\n",
            "Epoch: 0300 cost= 1.302531481 W= 0.27859873 b= 0.6030861\n",
            "Epoch: 0300 cost= 1.283669233 W= 0.32000357 b= 0.60977834\n",
            "Epoch: 0350 cost= 1.276071787 W= 0.31384808 b= 0.6597285\n",
            "Epoch: 0350 cost= 1.651924133 W= 0.34549904 b= 0.6669219\n",
            "Epoch: 0350 cost= 1.318239450 W= 0.31925488 b= 0.66215026\n",
            "Epoch: 0350 cost= 1.643856406 W= 0.34513196 b= 0.66600674\n",
            "Epoch: 0350 cost= 1.488178253 W= 0.25062263 b= 0.652369\n",
            "Epoch: 0350 cost= 1.562979698 W= 0.2454558 b= 0.65112936\n",
            "Epoch: 0350 cost= 1.268287182 W= 0.27328277 b= 0.65397495\n",
            "Epoch: 0350 cost= 1.274797440 W= 0.31357405 b= 0.6604872\n",
            "Epoch: 0400 cost= 1.267307281 W= 0.30904192 b= 0.6924591\n",
            "Epoch: 0400 cost= 1.637026548 W= 0.3401832 b= 0.6995367\n",
            "Epoch: 0400 cost= 1.304052353 W= 0.31375325 b= 0.69473124\n",
            "Epoch: 0400 cost= 1.630716324 W= 0.3399212 b= 0.6986311\n",
            "Epoch: 0400 cost= 1.476856589 W= 0.24565347 b= 0.68502825\n",
            "Epoch: 0400 cost= 1.559182167 W= 0.23998865 b= 0.68366915\n",
            "Epoch: 0400 cost= 1.248321056 W= 0.2698617 b= 0.68672395\n",
            "Epoch: 0400 cost= 1.270432711 W= 0.30943635 b= 0.69312036\n",
            "Epoch: 0450 cost= 1.262107491 W= 0.3059489 b= 0.713523\n",
            "Epoch: 0450 cost= 1.627881169 W= 0.3367622 b= 0.720526\n",
            "Epoch: 0450 cost= 1.295387030 W= 0.3102127 b= 0.7156988\n",
            "Epoch: 0450 cost= 1.622693777 W= 0.33656785 b= 0.71962655\n",
            "Epoch: 0450 cost= 1.470000744 W= 0.24245557 b= 0.7060461\n",
            "Epoch: 0450 cost= 1.557197452 W= 0.23647028 b= 0.7046101\n",
            "Epoch: 0450 cost= 1.236329556 W= 0.26766008 b= 0.70779955\n",
            "Epoch: 0450 cost= 1.268179774 W= 0.3067735 b= 0.7141214\n",
            "Epoch: 0500 cost= 1.258943558 W= 0.30395842 b= 0.7270784\n",
            "Epoch: 0500 cost= 1.622178555 W= 0.33456063 b= 0.7340334\n",
            "Epoch: 0500 cost= 1.290002942 W= 0.3079342 b= 0.72919226\n",
            "Epoch: 0500 cost= 1.617710710 W= 0.3344098 b= 0.73313797\n",
            "Epoch: 0500 cost= 1.465766430 W= 0.24039759 b= 0.719572\n",
            "Epoch: 0500 cost= 1.556110740 W= 0.23420605 b= 0.71808654\n",
            "Epoch: 0500 cost= 1.228967667 W= 0.26624328 b= 0.72136265\n",
            "Epoch: 0500 cost= 1.266961217 W= 0.3050599 b= 0.7276366\n",
            "Epoch: 0550 cost= 1.256982803 W= 0.30267745 b= 0.735802\n",
            "Epoch: 0550 cost= 1.618584156 W= 0.3331438 b= 0.74272615\n",
            "Epoch: 0550 cost= 1.286617398 W= 0.30646786 b= 0.737876\n",
            "Epoch: 0550 cost= 1.614578128 W= 0.333021 b= 0.74183327\n",
            "Epoch: 0550 cost= 1.463115692 W= 0.23907316 b= 0.7282766\n",
            "Epoch: 0550 cost= 1.555489898 W= 0.2327489 b= 0.72675925\n",
            "Epoch: 0550 cost= 1.224377275 W= 0.26533148 b= 0.73009115\n",
            "Epoch: 0550 cost= 1.266271949 W= 0.3039571 b= 0.7363342\n",
            "Epoch: 0600 cost= 1.255752802 W= 0.30185312 b= 0.74141586\n",
            "Epoch: 0600 cost= 1.616303086 W= 0.33223206 b= 0.74832016\n",
            "Epoch: 0600 cost= 1.284472227 W= 0.30552423 b= 0.7434642\n",
            "Epoch: 0600 cost= 1.612593174 W= 0.33212724 b= 0.74742883\n",
            "Epoch: 0600 cost= 1.461440325 W= 0.23822086 b= 0.73387814\n",
            "Epoch: 0600 cost= 1.555123448 W= 0.23181118 b= 0.73234034\n",
            "Epoch: 0600 cost= 1.221484065 W= 0.2647447 b= 0.7357081\n",
            "Epoch: 0600 cost= 1.265868068 W= 0.30324742 b= 0.74193126\n",
            "Epoch: 0650 cost= 1.254973531 W= 0.3013226 b= 0.74502856\n",
            "Epoch: 0650 cost= 1.614847422 W= 0.3316453 b= 0.7519201\n",
            "Epoch: 0650 cost= 1.283105135 W= 0.304917 b= 0.7470604\n",
            "Epoch: 0650 cost= 1.611328959 W= 0.33155212 b= 0.7510299\n",
            "Epoch: 0650 cost= 1.460374475 W= 0.23767239 b= 0.737483\n",
            "Epoch: 0650 cost= 1.554900527 W= 0.23120776 b= 0.735932\n",
            "Epoch: 0650 cost= 1.219647288 W= 0.26436707 b= 0.73932284\n",
            "Epoch: 0650 cost= 1.265624762 W= 0.3027907 b= 0.7455332\n",
            "Epoch: 0700 cost= 1.254477739 W= 0.3009812 b= 0.7473537\n",
            "Epoch: 0700 cost= 1.613916159 W= 0.33126765 b= 0.75423694\n",
            "Epoch: 0700 cost= 1.282230973 W= 0.30452615 b= 0.74937487\n",
            "Epoch: 0700 cost= 1.610520124 W= 0.33118194 b= 0.7533474\n",
            "Epoch: 0700 cost= 1.459694624 W= 0.23731938 b= 0.739803\n",
            "Epoch: 0700 cost= 1.554763198 W= 0.23081937 b= 0.7382435\n",
            "Epoch: 0700 cost= 1.218475819 W= 0.26412407 b= 0.74164927\n",
            "Epoch: 0700 cost= 1.265474796 W= 0.3024968 b= 0.74785143\n",
            "Epoch: 0750 cost= 1.254160881 W= 0.30076158 b= 0.7488495\n",
            "Epoch: 0750 cost= 1.613320351 W= 0.33102477 b= 0.7557275\n",
            "Epoch: 0750 cost= 1.281671166 W= 0.30427477 b= 0.7508639\n",
            "Epoch: 0750 cost= 1.610002398 W= 0.33094382 b= 0.7548384\n",
            "Epoch: 0750 cost= 1.459258437 W= 0.23709229 b= 0.74129564\n",
            "Epoch: 0750 cost= 1.554677010 W= 0.23056951 b= 0.73973066\n",
            "Epoch: 0750 cost= 1.217726350 W= 0.26396775 b= 0.74314594\n",
            "Epoch: 0750 cost= 1.265381098 W= 0.3023077 b= 0.7493428\n",
            "Epoch: 0800 cost= 1.253957987 W= 0.30062017 b= 0.7498124\n",
            "Epoch: 0800 cost= 1.612936497 W= 0.33086836 b= 0.756687\n",
            "Epoch: 0800 cost= 1.281311274 W= 0.30411288 b= 0.75182235\n",
            "Epoch: 0800 cost= 1.609669328 W= 0.33079052 b= 0.75579816\n",
            "Epoch: 0800 cost= 1.458979130 W= 0.2369461 b= 0.7422564\n",
            "Epoch: 0800 cost= 1.554622293 W= 0.23040868 b= 0.7406879\n",
            "Epoch: 0800 cost= 1.217245936 W= 0.26386708 b= 0.74410933\n",
            "Epoch: 0800 cost= 1.265321970 W= 0.30218595 b= 0.7503028\n",
            "Epoch: 0850 cost= 1.253827810 W= 0.30052915 b= 0.7504323\n",
            "Epoch: 0850 cost= 1.612690449 W= 0.3307677 b= 0.7573047\n",
            "Epoch: 0850 cost= 1.281080842 W= 0.3040087 b= 0.75243944\n",
            "Epoch: 0850 cost= 1.609455585 W= 0.3306918 b= 0.7564161\n",
            "Epoch: 0850 cost= 1.458799362 W= 0.23685198 b= 0.742875\n",
            "Epoch: 0850 cost= 1.554587722 W= 0.23030512 b= 0.7413042\n",
            "Epoch: 0850 cost= 1.216936827 W= 0.2638023 b= 0.74472964\n",
            "Epoch: 0850 cost= 1.265284419 W= 0.3021076 b= 0.7509209\n",
            "Epoch: 0900 cost= 1.253744006 W= 0.30047056 b= 0.75083107\n",
            "Epoch: 0900 cost= 1.612531543 W= 0.3307029 b= 0.75770205\n",
            "Epoch: 0900 cost= 1.280931950 W= 0.30394164 b= 0.75283635\n",
            "Epoch: 0900 cost= 1.609317899 W= 0.3306283 b= 0.7568135\n",
            "Epoch: 0900 cost= 1.458684683 W= 0.23679143 b= 0.74327284\n",
            "Epoch: 0900 cost= 1.554565907 W= 0.23023851 b= 0.74170065\n",
            "Epoch: 0900 cost= 1.216738701 W= 0.26376063 b= 0.74512863\n",
            "Epoch: 0900 cost= 1.265260696 W= 0.3020572 b= 0.75131845\n",
            "Epoch: 0950 cost= 1.253690124 W= 0.30043292 b= 0.7510875\n",
            "Epoch: 0950 cost= 1.612429619 W= 0.33066127 b= 0.7579576\n",
            "Epoch: 0950 cost= 1.280836701 W= 0.30389857 b= 0.75309163\n",
            "Epoch: 0950 cost= 1.609230518 W= 0.33058754 b= 0.7570691\n",
            "Epoch: 0950 cost= 1.458610058 W= 0.23675252 b= 0.7435287\n",
            "Epoch: 0950 cost= 1.554551482 W= 0.2301957 b= 0.7419556\n",
            "Epoch: 0950 cost= 1.216611624 W= 0.2637338 b= 0.74538517\n",
            "Epoch: 0950 cost= 1.265244961 W= 0.30202475 b= 0.7515741\n",
            "Epoch: 1000 cost= 1.253655672 W= 0.30040866 b= 0.75125265\n",
            "Epoch: 1000 cost= 1.612364292 W= 0.33063442 b= 0.75812215\n",
            "Epoch: 1000 cost= 1.280775189 W= 0.30387077 b= 0.753256\n",
            "Epoch: 1000 cost= 1.609173059 W= 0.33056122 b= 0.75723374\n",
            "Epoch: 1000 cost= 1.458562136 W= 0.23672745 b= 0.74369353\n",
            "Epoch: 1000 cost= 1.554542542 W= 0.2301681 b= 0.7421198\n",
            "Epoch: 1000 cost= 1.216529369 W= 0.26371655 b= 0.74555045\n",
            "Epoch: 1000 cost= 1.265235424 W= 0.3020039 b= 0.7517388\n",
            "Optimization Finished!\n",
            "Training cost= 1.2652354 W= 0.3020039 b= 0.7517388 \n",
            "\n"
          ],
          "name": "stdout"
        },
        {
          "output_type": "display_data",
          "data": {
            "image/png": "[encoded data removed]",
            "text/plain": [
              "<Figure size 576x396 with 1 Axes>"
            ]
          },
          "metadata": {
            "tags": []
          }
        }
      ]
    },
    {
      "metadata": {
        "id": "KKemN6wfgNZR",
        "colab_type": "code",
        "colab": {}
      },
      "cell_type": "code",
      "source": [
        "#@title Enter new value\n",
        "x = 3.5 #@param {type:\"number\"}"
      ],
      "execution_count": 0,
      "outputs": []
    },
    {
      "metadata": {
        "id": "zaJ_GxwRZHgm",
        "colab_type": "code",
        "colab": {}
      },
      "cell_type": "code",
      "source": [
        "import tensorflow as tf\n",
        "import matplotlib.pyplot as plt\n",
        "%matplotlib inline"
      ],
      "execution_count": 0,
      "outputs": []
    },
    {
      "metadata": {
        "id": "6f1CEiWPholZ",
        "colab_type": "code",
        "colab": {}
      },
      "cell_type": "code",
      "source": [
        "from tensorboardcolab import TensorBoardColab,TensorBoardColabCallback\n"
      ],
      "execution_count": 0,
      "outputs": []
    },
    {
      "metadata": {
        "id": "5DrB900kh94J",
        "colab_type": "code",
        "colab": {
          "base_uri": "https://localhost:8080/",
          "height": 580
        },
        "outputId": "a0b17adc-4613-43a8-acd3-3f41681ecfb1"
      },
      "cell_type": "code",
      "source": [
        "from tensorflow.examples.tutorials.mnist import input_data\n",
        "mnist=input_data.read_data_sets('MNIST_data',one_hot=True)"
      ],
      "execution_count": 74,
      "outputs": [
        {
          "output_type": "stream",
          "text": [
            "WARNING:tensorflow:From <ipython-input-74-ecc6ee1f4346>:2: read_data_sets (from tensorflow.contrib.learn.python.learn.datasets.mnist) is deprecated and will be removed in a future version.\n",
            "Instructions for updating:\n",
            "Please use alternatives such as official/mnist/dataset.py from tensorflow/models.\n",
            "WARNING:tensorflow:From /usr/local/lib/python3.6/dist-packages/tensorflow/contrib/learn/python/learn/datasets/mnist.py:260: maybe_download (from tensorflow.contrib.learn.python.learn.datasets.base) is deprecated and will be removed in a future version.\n",
            "Instructions for updating:\n",
            "Please write your own downloading logic.\n",
            "WARNING:tensorflow:From /usr/local/lib/python3.6/dist-packages/tensorflow/contrib/learn/python/learn/datasets/base.py:252: _internal_retry.<locals>.wrap.<locals>.wrapped_fn (from tensorflow.contrib.learn.python.learn.datasets.base) is deprecated and will be removed in a future version.\n",
            "Instructions for updating:\n",
            "Please use urllib or similar directly.\n",
            "Successfully downloaded train-images-idx3-ubyte.gz 9912422 bytes.\n",
            "WARNING:tensorflow:From /usr/local/lib/python3.6/dist-packages/tensorflow/contrib/learn/python/learn/datasets/mnist.py:262: extract_images (from tensorflow.contrib.learn.python.learn.datasets.mnist) is deprecated and will be removed in a future version.\n",
            "Instructions for updating:\n",
            "Please use tf.data to implement this functionality.\n",
            "Extracting MNIST_data/train-images-idx3-ubyte.gz\n",
            "Successfully downloaded train-labels-idx1-ubyte.gz 28881 bytes.\n",
            "WARNING:tensorflow:From /usr/local/lib/python3.6/dist-packages/tensorflow/contrib/learn/python/learn/datasets/mnist.py:267: extract_labels (from tensorflow.contrib.learn.python.learn.datasets.mnist) is deprecated and will be removed in a future version.\n",
            "Instructions for updating:\n",
            "Please use tf.data to implement this functionality.\n",
            "Extracting MNIST_data/train-labels-idx1-ubyte.gz\n",
            "WARNING:tensorflow:From /usr/local/lib/python3.6/dist-packages/tensorflow/contrib/learn/python/learn/datasets/mnist.py:110: dense_to_one_hot (from tensorflow.contrib.learn.python.learn.datasets.mnist) is deprecated and will be removed in a future version.\n",
            "Instructions for updating:\n",
            "Please use tf.one_hot on tensors.\n",
            "Successfully downloaded t10k-images-idx3-ubyte.gz 1648877 bytes.\n",
            "Extracting MNIST_data/t10k-images-idx3-ubyte.gz\n",
            "Successfully downloaded t10k-labels-idx1-ubyte.gz 4542 bytes.\n",
            "Extracting MNIST_data/t10k-labels-idx1-ubyte.gz\n",
            "WARNING:tensorflow:From /usr/local/lib/python3.6/dist-packages/tensorflow/contrib/learn/python/learn/datasets/mnist.py:290: DataSet.__init__ (from tensorflow.contrib.learn.python.learn.datasets.mnist) is deprecated and will be removed in a future version.\n",
            "Instructions for updating:\n",
            "Please use alternatives such as official/mnist/dataset.py from tensorflow/models.\n"
          ],
          "name": "stdout"
        }
      ]
    },
    {
      "metadata": {
        "id": "aaKFGyV4ilOO",
        "colab_type": "code",
        "colab": {
          "base_uri": "https://localhost:8080/",
          "height": 302
        },
        "outputId": "dc9caa10-0780-44d4-a767-46ce145519a8"
      },
      "cell_type": "code",
      "source": [
        "images=mnist.test.images[0:9]\n",
        "plt.imshow(images[0].reshape(28,28),cmap=\"gray\")\n",
        "plt.axis('off')\n",
        "plt.figure(figsize=(8,12))\n",
        "plt.show"
      ],
      "execution_count": 76,
      "outputs": [
        {
          "output_type": "execute_result",
          "data": {
            "text/plain": [
              "<function matplotlib.pyplot.show>"
            ]
          },
          "metadata": {
            "tags": []
          },
          "execution_count": 76
        },
        {
          "output_type": "display_data",
          "data": {
            "image/png": "[encoded data removed]",
            "text/plain": [
              "<Figure size 432x288 with 1 Axes>"
            ]
          },
          "metadata": {
            "tags": []
          }
        },
        {
          "output_type": "display_data",
          "data": {
            "text/plain": [
              "<Figure size 576x864 with 0 Axes>"
            ]
          },
          "metadata": {
            "tags": []
          }
        }
      ]
    }
  ]
}